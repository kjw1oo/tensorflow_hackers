{
 "cells": [
  {
   "cell_type": "code",
   "execution_count": 5,
   "metadata": {
    "collapsed": true
   },
   "outputs": [],
   "source": [
    "import tensorflow as tf\n",
    "import numpy as np\n",
    "import matplotlib.pyplot as plt\n",
    "\n",
    "import os\n",
    "import pandas as pd\n",
    "import numpy as np\n",
    "import librosa\n",
    "import librosa.display\n",
    "import matplotlib.pyplot as plt\n",
    "from scipy.io import wavfile\n",
    "import python_speech_features\n",
    "import re\n",
    "import IPython.display as ipd\n",
    "%matplotlib inline"
   ]
  },
  {
   "cell_type": "code",
   "execution_count": 2,
   "metadata": {
    "collapsed": true
   },
   "outputs": [],
   "source": [
    "tf.reset_default_graph()"
   ]
  },
  {
   "cell_type": "code",
   "execution_count": 3,
   "metadata": {},
   "outputs": [
    {
     "name": "stdout",
     "output_type": "stream",
     "text": [
      "Extracting ./mnist/data/train-images-idx3-ubyte.gz\n",
      "Extracting ./mnist/data/train-labels-idx1-ubyte.gz\n",
      "Extracting ./mnist/data/t10k-images-idx3-ubyte.gz\n",
      "Extracting ./mnist/data/t10k-labels-idx1-ubyte.gz\n"
     ]
    }
   ],
   "source": [
    "from tensorflow.examples.tutorials.mnist import input_data\n",
    "\n",
    "mnist = input_data.read_data_sets('./mnist/data/', one_hot = True)"
   ]
  },
  {
   "cell_type": "code",
   "execution_count": 20,
   "metadata": {
    "collapsed": true
   },
   "outputs": [],
   "source": [
    "learning_rate = 0.01\n",
    "training_epoch = 20\n",
    "batch_size = 100\n",
    "n_hidden = 256\n",
    "n_input = 28 * 28\n",
    "sample_size = 10"
   ]
  },
  {
   "cell_type": "code",
   "execution_count": 12,
   "metadata": {
    "collapsed": true
   },
   "outputs": [],
   "source": [
    "def padding(spectrogram):\n",
    "    return np.vstack([spectrogram[0, :].reshape(1, -1), spectrogram])"
   ]
  },
  {
   "cell_type": "code",
   "execution_count": null,
   "metadata": {},
   "outputs": [],
   "source": [
    "labels = []\n",
    "train_data=[]\n",
    "samples_ = []\n",
    "samples_dif = []\n",
    "\n",
    "file_names = []\n",
    "file_path = []\n",
    "\n",
    "# train_path 알맞게 바꾸면됨\n",
    "train_path = '../tf-speech-recognition-challenge/data/train/audio/'\n",
    "\n",
    "# '클래스이름 'stop에서 바꾸면됨\n",
    "class_name = 'stop'\n",
    "\n",
    "for idx, file in enumerate(os.listdir(train_path + class_name + '/')):\n",
    "    sample, sample_rate = librosa.load(train_path + class_name + '/' + file, sr = 16000)\n",
    "    spectrogram = python_speech_features.base.logfbank(sample)\n",
    "    samples_.append(sample)\n",
    "    sample = sample.astype('float32')\n",
    "    max_min = max(sample) - min(sample)\n",
    "    samples_dif.append(max_min)\n",
    "    while spectrogram.shape[1] < 29:\n",
    "        spectrogram = padding(spectrogram)\n",
    "    file_names.append(file)\n",
    "    \n",
    "    file_path.append(train_path + class_name + '/' + file)        \n",
    "    train_data.append(spectrogram)  \n",
    "    #labels.append(class_name)\n",
    "    \n",
    "size = len(train_data)"
   ]
  },
  {
   "cell_type": "code",
   "execution_count": null,
   "metadata": {},
   "outputs": [],
   "source": [
    "for i in train_data:\n",
    "    if i.shape[0] != 99:\n",
    "        print(i.shape)"
   ]
  },
  {
   "cell_type": "code",
   "execution_count": 14,
   "metadata": {},
   "outputs": [],
   "source": []
  },
  {
   "cell_type": "code",
   "execution_count": 5,
   "metadata": {
    "collapsed": true
   },
   "outputs": [],
   "source": [
    "import numpy as np\n",
    "import tensorflow as tf\n",
    "import matplotlib.pyplot as plt\n",
    "from tensorflow.examples.tutorials.mnist import input_data\n",
    "%matplotlib inline  "
   ]
  },
  {
   "cell_type": "code",
   "execution_count": 4,
   "metadata": {
    "collapsed": true
   },
   "outputs": [],
   "source": [
    "params = {\n",
    "    'num_filters': [16, 32, 64],\n",
    "    'filter_sizes': [5, 5, 5],        \n",
    "}\n",
    "\n",
    "def cae(X, activation = tf.nn.sigmoid, is_training = True, reuse = False):\n",
    "    inputs = X\n",
    "    W_shapes = []\n",
    "    L_shapes = []\n",
    "    \n",
    "    for i, n_filters, filter_size in zip(np.arange(len(params['num_filters'])), params['num_filters'], params['filter_sizes']):\n",
    "        shape = inputs.get_shape().as_list()\n",
    "        L_shapes.append(shape)\n",
    "        W = tf.Variable(tf.truncated_normal([filter_size, filter_size, shape[-1], n_filters], stddev = 0.1), name='E_Weight'+str(i))\n",
    "        W_shapes.append([filter_size, filter_size, shape[-1], n_filters])\n",
    "        b = tf.Variable(tf.truncated_normal([n_filters], stddev = 0.1), name='E_bias'+str(i))\n",
    "        L = tf.nn.conv2d(inputs, W, strides = [1, 2, 2, 1], padding = 'SAME', name = 'Encoder'+ str(i))\n",
    "        L = activation(tf.add(L, b))\n",
    "        inputs = L\n",
    "        \n",
    "    for i, n_filters, filter_size, L_shape, W_shape in zip(np.arange(len(params['num_filters'])),\n",
    "                                                params['num_filters'][::-1],\n",
    "                                                params['filter_sizes'][::-1],\n",
    "                                                L_shapes[::-1],\n",
    "                                                W_shapes[::-1]):\n",
    "        W = tf.Variable(tf.truncated_normal(W_shape, stddev = 0.1), name='D_Weight'+str(i))\n",
    "        b = tf.Variable(tf.truncated_normal([W_shape[2]], stddev = 0.1), name='D_bias'+str(i))\n",
    "        L = tf.nn.conv2d_transpose(inputs,\n",
    "                                   W,\n",
    "                                   tf.stack([tf.shape(X)[0], L_shape[1], L_shape[2], L_shape[3]]),\n",
    "                                   strides = [1, 2, 2, 1],\n",
    "                                   padding = 'SAME',\n",
    "                                   name = 'Decoder' + str(i))\n",
    "        L = activation(tf.add(L, b))\n",
    "        inputs = L\n",
    "    return inputs "
   ]
  },
  {
   "cell_type": "code",
   "execution_count": 25,
   "metadata": {},
   "outputs": [
    {
     "name": "stdout",
     "output_type": "stream",
     "text": [
      "<tf.Variable 'E_Weight0:0' shape=(5, 5, 1, 16) dtype=float32_ref>\n",
      "<tf.Variable 'E_bias0:0' shape=(16,) dtype=float32_ref>\n",
      "<tf.Variable 'E_Weight1:0' shape=(5, 5, 16, 32) dtype=float32_ref>\n",
      "<tf.Variable 'E_bias1:0' shape=(32,) dtype=float32_ref>\n",
      "<tf.Variable 'E_Weight2:0' shape=(5, 5, 32, 64) dtype=float32_ref>\n",
      "<tf.Variable 'E_bias2:0' shape=(64,) dtype=float32_ref>\n",
      "<tf.Variable 'D_Weight0:0' shape=(5, 5, 32, 64) dtype=float32_ref>\n",
      "<tf.Variable 'D_bias0:0' shape=(32,) dtype=float32_ref>\n",
      "<tf.Variable 'D_Weight1:0' shape=(5, 5, 16, 32) dtype=float32_ref>\n",
      "<tf.Variable 'D_bias1:0' shape=(16,) dtype=float32_ref>\n",
      "<tf.Variable 'D_Weight2:0' shape=(5, 5, 1, 16) dtype=float32_ref>\n",
      "<tf.Variable 'D_bias2:0' shape=(1,) dtype=float32_ref>\n"
     ]
    }
   ],
   "source": [
    "\n",
    "\n",
    "tf.reset_default_graph()\n",
    "X = tf.placeholder(tf.float32, [None, 28, 28, 1])\n",
    "Y = tf.placeholder(tf.float32, [None, 28, 28, 1])\n",
    "construct = cae(X)\n",
    "cost = tf.reduce_mean(tf.pow(construct- Y, 2))\n",
    "train = tf.train.AdamOptimizer(0.01).minimize(cost)\n",
    "\n",
    "for v in tf.trainable_variables():\n",
    "    print(v) "
   ]
  },
  {
   "cell_type": "code",
   "execution_count": 29,
   "metadata": {
    "collapsed": true
   },
   "outputs": [],
   "source": [
    "batch_size = 32\n",
    "sample_size = 10"
   ]
  },
  {
   "cell_type": "code",
   "execution_count": 42,
   "metadata": {},
   "outputs": [
    {
     "name": "stdout",
     "output_type": "stream",
     "text": [
      "epoch: 0, cost: 0.0395694875328588\n",
      "epoch: 1, cost: 0.010668178323419967\n",
      "epoch: 2, cost: 0.008700712579622327\n",
      "epoch: 3, cost: 0.007904772920484141\n",
      "epoch: 4, cost: 0.007509705324888195\n"
     ]
    },
    {
     "data": {
      "image/png": "[encoded data removed]",
      "text/plain": [
       "<matplotlib.figure.Figure at 0x2aecdbcff60>"
      ]
     },
     "metadata": {},
     "output_type": "display_data"
    }
   ],
   "source": [
    "mean_img = np.zeros((784))\n",
    "with tf.Session() as sess:\n",
    "    sess.run(tf.global_variables_initializer())\n",
    "    sess.run(tf.local_variables_initializer())\n",
    "    total_batch = int(mnist.train.num_examples / batch_size)\n",
    "    \n",
    "    for epoch in range(5):\n",
    "        total_cost = 0\n",
    "        for i in range(total_batch):\n",
    "            batch_xs, batch_ys = mnist.train.next_batch(batch_size)\n",
    "            trainbatch = np.array([img - mean_img for img in batch_xs])\n",
    "            trainbatch_noisy = trainbatch + 0.3 * np.random.randn(trainbatch.shape[0], 784)\n",
    "            _, c = sess.run([train, cost], feed_dict = {X: trainbatch_noisy.reshape(-1, 28, 28, 1), Y: trainbatch.reshape(-1, 28, 28, 1)})\n",
    "            total_cost += c\n",
    "        print('epoch: {}, cost: {}'.format(epoch, total_cost/total_batch))\n",
    "        \n",
    "\n",
    "    test = np.array([img -mean_img for img in mnist.train.images[:sample_size]])\n",
    "    test_noisy = test + 0.3*np.random.randn(test.shape[0], 784)                 \n",
    "    \n",
    "    samples = sess.run(construct, feed_dict = {X: test_noisy.reshape(-1, 28, 28, 1)})\n",
    "    fig, axes = plt.subplots(2, sample_size, figsize = (sample_size, 2))\n",
    "    for i in range(sample_size):\n",
    "        axes[0][i].set_axis_off()\n",
    "        axes[0][i].imshow(np.reshape(test_noisy[i], (28, 28)))\n",
    "        \n",
    "        axes[1][i].set_axis_off()\n",
    "        axes[1][i].imshow(np.reshape(samples[i], (28, 28)))\n",
    "    plt.show()\n",
    "    "
   ]
  },
  {
   "cell_type": "code",
   "execution_count": 41,
   "metadata": {},
   "outputs": [
    {
     "ename": "IndentationError",
     "evalue": "expected an indented block (<ipython-input-41-cd0922a8fe85>, line 9)",
     "output_type": "error",
     "traceback": [
      "\u001b[0;36m  File \u001b[0;32m\"<ipython-input-41-cd0922a8fe85>\"\u001b[0;36m, line \u001b[0;32m9\u001b[0m\n\u001b[0;31m    axes[0][i].set_axis_off()\u001b[0m\n\u001b[0m                             ^\u001b[0m\n\u001b[0;31mIndentationError\u001b[0m\u001b[0;31m:\u001b[0m expected an indented block\n"
     ]
    }
   ],
   "source": [
    "        \n",
    "with tf.Session() as sess:\n",
    "    test = np.array([img -mean_img for img in mnist.train.images[:sample_size]])\n",
    "    test_noisy = test + 0.3*np.random.randn(test.shape[0], 784)     \n",
    "    \n",
    "    samples = sess.run(construct, feed_dict = {X: test_noisy.reshape(-1, 28, 28, 1)})\n",
    "    fig, axes = plt.subplots(2, sample_size, figsize = (sample_size, 2))\n",
    "    for i in range(sample_size):        \n",
    "        axes[0][i].set_axis_off()\n",
    "        axes[0][i].imshow(np.reshape(test_noisy[i], (28, 28)))\n",
    "        \n",
    "        axes[1][i].set_axis_off()\n",
    "        axes[1][i].imshow(np.reshape(samples[i], (28, 28)))\n",
    "    plt.show()"
   ]
  },
  {
   "cell_type": "code",
   "execution_count": null,
   "metadata": {
    "collapsed": true
   },
   "outputs": [],
   "source": []
  }
 ],
 "metadata": {
  "kernelspec": {
   "display_name": "Python 3",
   "language": "python",
   "name": "python3"
  },
  "language_info": {
   "codemirror_mode": {
    "name": "ipython",
    "version": 3
   },
   "file_extension": ".py",
   "mimetype": "text/x-python",
   "name": "python",
   "nbconvert_exporter": "python",
   "pygments_lexer": "ipython3",
   "version": "3.6.0"
  }
 },
 "nbformat": 4,
 "nbformat_minor": 2
}
