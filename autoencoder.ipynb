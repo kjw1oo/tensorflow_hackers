{
 "cells": [
  {
   "cell_type": "code",
   "execution_count": 8,
   "metadata": {
    "collapsed": true
   },
   "outputs": [],
   "source": [
    "import tensorflow as tf\n",
    "import numpy as np\n",
    "import matplotlib.pyplot as plt"
   ]
  },
  {
   "cell_type": "code",
   "execution_count": 17,
   "metadata": {
    "collapsed": true
   },
   "outputs": [],
   "source": [
    "tf.reset_default_graph()"
   ]
  },
  {
   "cell_type": "code",
   "execution_count": 4,
   "metadata": {},
   "outputs": [
    {
     "name": "stdout",
     "output_type": "stream",
     "text": [
      "Extracting ./mnist/data/train-images-idx3-ubyte.gz\n",
      "Extracting ./mnist/data/train-labels-idx1-ubyte.gz\n",
      "Extracting ./mnist/data/t10k-images-idx3-ubyte.gz\n",
      "Extracting ./mnist/data/t10k-labels-idx1-ubyte.gz\n"
     ]
    }
   ],
   "source": [
    "from tensorflow.examples.tutorials.mnist import input_data\n",
    "\n",
    "mnist = input_data.read_data_sets('./mnist/data/', one_hot = True)"
   ]
  },
  {
   "cell_type": "code",
   "execution_count": 11,
   "metadata": {
    "collapsed": true
   },
   "outputs": [],
   "source": [
    "learning_rate = 0.01\n",
    "training_epoch = 20\n",
    "batch_size = 100\n",
    "n_hidden = 256\n",
    "n_input = 28 * 28\n",
    "sample_size = 10"
   ]
  },
  {
   "cell_type": "code",
   "execution_count": null,
   "metadata": {
    "collapsed": true
   },
   "outputs": [],
   "source": []
  },
  {
   "cell_type": "code",
   "execution_count": null,
   "metadata": {
    "collapsed": true
   },
   "outputs": [],
   "source": []
  },
  {
   "cell_type": "code",
   "execution_count": 23,
   "metadata": {},
   "outputs": [
    {
     "name": "stdout",
     "output_type": "stream",
     "text": [
      "epoch: 0, cost: 0.1137490849332376\n",
      "epoch: 1, cost: 0.09857419628988613\n",
      "epoch: 2, cost: 0.09714877018874342\n",
      "epoch: 3, cost: 0.0965455802733248\n",
      "epoch: 4, cost: 0.0961407412046736\n",
      "epoch: 5, cost: 0.09587987380948934\n",
      "epoch: 6, cost: 0.09568006610328501\n",
      "epoch: 7, cost: 0.09543336822227998\n",
      "epoch: 8, cost: 0.09522271715781905\n",
      "epoch: 9, cost: 0.09502255247397856\n",
      "epoch: 10, cost: 0.0948355866020376\n",
      "epoch: 11, cost: 0.09472184194759889\n",
      "epoch: 12, cost: 0.09453063130378724\n",
      "epoch: 13, cost: 0.094361294047399\n",
      "epoch: 14, cost: 0.09432516612789847\n",
      "epoch: 15, cost: 0.09423463614149527\n",
      "epoch: 16, cost: 0.09403341019695455\n",
      "epoch: 17, cost: 0.09375271161848849\n",
      "epoch: 18, cost: 0.09349809815937822\n",
      "epoch: 19, cost: 0.09326863726431674\n"
     ]
    },
    {
     "data": {
      "image/png": "[encoded data removed]",
      "text/plain": [
       "<matplotlib.figure.Figure at 0x1d778f28710>"
      ]
     },
     "metadata": {},
     "output_type": "display_data"
    }
   ],
   "source": [
    "X = tf.placeholder(tf.float32, [None, n_input])\n",
    "\n",
    "W1_encode = tf.Variable(tf.random_normal([n_input, 512]))\n",
    "b1_encode = tf.Variable(tf.random_normal([512]))\n",
    "encoder1 = tf.nn.sigmoid(tf.matmul(X, W1_encode) + b1_encode)\n",
    "\n",
    "W2_encode = tf.Variable(tf.random_normal([512, n_hidden]))\n",
    "b2_encode = tf.Variable(tf.random_normal([n_hidden]))\n",
    "encoder2 = tf.nn.sigmoid(tf.matmul(encoder1, W2_encode) + b2_encode)\n",
    "\n",
    "W1_decode = tf.Variable(tf.random_normal([n_hidden, 512]))\n",
    "b1_decode = tf.Variable(tf.random_normal([512]))\n",
    "decoder1 = tf.nn.sigmoid(tf.matmul(encoder2, W1_decode) + b1_decode)\n",
    "\n",
    "W2_decode = tf.Variable(tf.random_normal([512, n_input]))\n",
    "b2_decode = tf.Variable(tf.random_normal([n_input]))\n",
    "decoder2 = tf.nn.sigmoid(tf.matmul(decoder1, W2_decode) + b2_decode)\n",
    "\n",
    "cost = tf.reduce_mean(tf.pow(X - decoder2, 2))\n",
    "train = tf.train.AdamOptimizer(learning_rate).minimize(cost)\n",
    "\n",
    "\n",
    "with tf.Session() as sess:\n",
    "    sess.run(tf.global_variables_initializer())\n",
    "    sess.run(tf.local_variables_initializer())\n",
    "    total_batch = int(mnist.train.num_examples / batch_size)\n",
    "    for epoch in range(training_epoch):\n",
    "        total_cost = 0\n",
    "        for i in range(total_batch):\n",
    "            batch_xs, batch_ys = mnist.train.next_batch(batch_size)\n",
    "            \n",
    "            _, c = sess.run([train, cost], feed_dict = {X: batch_xs})\n",
    "            total_cost += c\n",
    "        print('epoch: {}, cost: {}'.format(epoch, total_cost/total_batch))\n",
    "    samples = sess.run(decoder2, feed_dict = {X: mnist.train.images[:sample_size]})\n",
    "    fig, axes = plt.subplots(2, sample_size, figsize = (sample_size, 2))\n",
    "    for i in range(sample_size):\n",
    "        axes[0][i].set_axis_off()\n",
    "        axes[0][i].imshow(np.reshape(mnist.train.images[i], (28, 28)))\n",
    "        \n",
    "        axes[1][i].set_axis_off()\n",
    "        axes[1][i].imshow(np.reshape(samples[i], (28, 28)))\n",
    "    plt.show()"
   ]
  },
  {
   "cell_type": "code",
   "execution_count": null,
   "metadata": {
    "collapsed": true
   },
   "outputs": [],
   "source": []
  }
 ],
 "metadata": {
  "kernelspec": {
   "display_name": "Python 3",
   "language": "python",
   "name": "python3"
  },
  "language_info": {
   "codemirror_mode": {
    "name": "ipython",
    "version": 3
   },
   "file_extension": ".py",
   "mimetype": "text/x-python",
   "name": "python",
   "nbconvert_exporter": "python",
   "pygments_lexer": "ipython3",
   "version": "3.6.0"
  }
 },
 "nbformat": 4,
 "nbformat_minor": 2
}
