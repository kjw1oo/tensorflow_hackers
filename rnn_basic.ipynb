{
 "cells": [
  {
   "cell_type": "code",
   "execution_count": 1,
   "metadata": {},
   "outputs": [
    {
     "name": "stdout",
     "output_type": "stream",
     "text": [
      "Extracting ./mnist/data/train-images-idx3-ubyte.gz\n",
      "Extracting ./mnist/data/train-labels-idx1-ubyte.gz\n",
      "Extracting ./mnist/data/t10k-images-idx3-ubyte.gz\n",
      "Extracting ./mnist/data/t10k-labels-idx1-ubyte.gz\n"
     ]
    }
   ],
   "source": [
    "import tensorflow as tf\n",
    "import numpy as np\n",
    "import matplotlib.pyplot as plt\n",
    "%matplotlib inline\n",
    "from tensorflow.examples.tutorials.mnist import input_data\n",
    "\n",
    "mnist = input_data.read_data_sets('./mnist/data/', one_hot = True)"
   ]
  },
  {
   "cell_type": "code",
   "execution_count": 13,
   "metadata": {
    "collapsed": true
   },
   "outputs": [],
   "source": [
    "learning_rate = 0.001\n",
    "total_epoch = 30\n",
    "batch_size = 128\n",
    "\n",
    "n_inputs = 28\n",
    "n_steps = 28\n",
    "n_hidden = 128\n",
    "n_class = 10\n",
    "\n"
   ]
  },
  {
   "cell_type": "markdown",
   "metadata": {},
   "source": [
    "- 코드 작성"
   ]
  },
  {
   "cell_type": "code",
   "execution_count": 4,
   "metadata": {},
   "outputs": [],
   "source": [
    "X= tf.placeholder(tf.float32, [None, n_steps, n_inputs])\n",
    "Y=tf.placeholder(tf.float32, [None, n_class])"
   ]
  },
  {
   "cell_type": "code",
   "execution_count": 7,
   "metadata": {
    "collapsed": true
   },
   "outputs": [],
   "source": [
    "cell = tf.contrib.rnn.BasicRNNCell(n_hidden)\n",
    "\n",
    "outputs, states = tf.nn.dynamic_rnn(cell, X, dtype=tf.float32)\n",
    "\n",
    "#states = tf.zeros(batch_size)\n",
    "#for i in range(n_steps):\n",
    "#    outputs, states = cell(X[[:, i]], states)"
   ]
  },
  {
   "cell_type": "markdown",
   "metadata": {},
   "source": [
    "- RNN에서 나온 출력값을 최종 출력값을 만들기 위해서는 최종결과값이 실측값 Y와 동일한 형태인 [batch_size, n_class]가 되어야한다."
   ]
  },
  {
   "cell_type": "code",
   "execution_count": 10,
   "metadata": {},
   "outputs": [],
   "source": [
    "W = tf.Variable(tf.random_normal([n_hidden, n_class]))\n",
    "b = tf.Variable(tf.random_normal([n_class]))\n",
    "\n",
    "#outputs : [batch_size, n_step, n_hidden]\n",
    "# ----> [n_step, batch_size, n_hidden]\n",
    "\n",
    "outputs = tf.transpose(outputs, [1, 0, 2])\n",
    "#-> [batch_size, n_hidden]\n",
    "outputs = outputs[-1]"
   ]
  },
  {
   "cell_type": "code",
   "execution_count": 11,
   "metadata": {
    "collapsed": true
   },
   "outputs": [],
   "source": [
    "model = tf.matmul(outputs, W) + b"
   ]
  },
  {
   "cell_type": "code",
   "execution_count": 17,
   "metadata": {},
   "outputs": [],
   "source": [
    "cost = tf.reduce_mean(tf.nn.softmax_cross_entropy_with_logits(labels = Y, logits = model))\n",
    "train = tf.train.AdamOptimizer(learning_rate).minimize(cost)\n",
    "\n",
    "is_correct = tf.equal(tf.argmax(model, 1), tf.argmax(Y, 1))\n",
    "accuracy =tf.reduce_mean(tf.cast(is_correct, tf.float32))"
   ]
  },
  {
   "cell_type": "code",
   "execution_count": 19,
   "metadata": {},
   "outputs": [
    {
     "name": "stdout",
     "output_type": "stream",
     "text": [
      "Epoch : 0, avg_cost : 0.36812928318977356, accuracy : 0.9177001118659973\n",
      "Epoch : 1, avg_cost : 0.35402435064315796, accuracy : 0.9417001008987427\n",
      "Epoch : 2, avg_cost : 0.19710153341293335, accuracy : 0.9523001313209534\n",
      "Epoch : 3, avg_cost : 0.05755286291241646, accuracy : 0.955000102519989\n",
      "Epoch : 4, avg_cost : 0.11476858705282211, accuracy : 0.9647001624107361\n",
      "Epoch : 5, avg_cost : 0.2467179149389267, accuracy : 0.947900116443634\n",
      "Epoch : 6, avg_cost : 0.17295950651168823, accuracy : 0.9614001512527466\n",
      "Epoch : 7, avg_cost : 0.0734465941786766, accuracy : 0.9675001502037048\n",
      "Epoch : 8, avg_cost : 0.08358713984489441, accuracy : 0.9724001288414001\n",
      "Epoch : 9, avg_cost : 0.09936118125915527, accuracy : 0.9653000831604004\n",
      "Epoch : 10, avg_cost : 0.20417945086956024, accuracy : 0.9618001580238342\n",
      "Epoch : 11, avg_cost : 0.1080816388130188, accuracy : 0.9745001792907715\n",
      "Epoch : 12, avg_cost : 0.10721761733293533, accuracy : 0.9721001386642456\n",
      "Epoch : 13, avg_cost : 0.22235408425331116, accuracy : 0.9666001796722412\n",
      "Epoch : 14, avg_cost : 0.07153024524450302, accuracy : 0.9609001874923706\n",
      "Epoch : 15, avg_cost : 0.07795842736959457, accuracy : 0.9690001606941223\n",
      "Epoch : 16, avg_cost : 0.05183090642094612, accuracy : 0.9708002209663391\n",
      "Epoch : 17, avg_cost : 0.029760010540485382, accuracy : 0.9708001613616943\n",
      "Epoch : 18, avg_cost : 0.1342473030090332, accuracy : 0.9780001640319824\n",
      "Epoch : 19, avg_cost : 0.06242477893829346, accuracy : 0.9750002026557922\n",
      "Epoch : 20, avg_cost : 0.06012006103992462, accuracy : 0.9737001061439514\n",
      "Epoch : 21, avg_cost : 0.1972910463809967, accuracy : 0.9803000688552856\n",
      "Epoch : 22, avg_cost : 0.07930545508861542, accuracy : 0.9719001650810242\n",
      "Epoch : 23, avg_cost : 0.10830484330654144, accuracy : 0.9715000987052917\n",
      "Epoch : 24, avg_cost : 0.04342418536543846, accuracy : 0.97350013256073\n",
      "Epoch : 25, avg_cost : 0.13559699058532715, accuracy : 0.9681001305580139\n",
      "Epoch : 26, avg_cost : 0.09731613844633102, accuracy : 0.973700225353241\n",
      "Epoch : 27, avg_cost : 0.012697922065854073, accuracy : 0.9741001129150391\n",
      "Epoch : 28, avg_cost : 0.0437222495675087, accuracy : 0.9765001535415649\n",
      "Epoch : 29, avg_cost : 0.0958678126335144, accuracy : 0.974600076675415\n"
     ]
    }
   ],
   "source": [
    "sess = tf.Session()\n",
    "sess.run(tf.global_variables_initializer())\n",
    "\n",
    "total_batch = int(mnist.train.num_examples/ batch_size)\n",
    "\n",
    "test_batch_size = len(mnist.test.images)\n",
    "for epoch in range(total_epoch):\n",
    "    total_cost = 0\n",
    "    \n",
    "    for i in range(total_batch):\n",
    "        batch_xs, batch_ys = mnist.train.next_batch(batch_size)\n",
    "        batch_xs = batch_xs.reshape(batch_size, n_steps, n_inputs)\n",
    "        \n",
    "        _, cost_val= sess.run([train, cost], feed_dict = {X: batch_xs, Y: batch_ys})\n",
    "        \n",
    "        total_cost += cost_val\n",
    "    \n",
    "    acc = sess.run(accuracy, feed_dict = {X: mnist.test.images.reshape(test_batch_size, n_steps, n_inputs), Y: mnist.test.labels})\n",
    "    print('Epoch : {}, avg_cost : {}, accuracy : {}'.format(epoch, cost_val, acc))"
   ]
  },
  {
   "cell_type": "code",
   "execution_count": null,
   "metadata": {
    "collapsed": true
   },
   "outputs": [],
   "source": []
  }
 ],
 "metadata": {
  "kernelspec": {
   "display_name": "Python 3",
   "language": "python",
   "name": "python3"
  },
  "language_info": {
   "codemirror_mode": {
    "name": "ipython",
    "version": 3
   },
   "file_extension": ".py",
   "mimetype": "text/x-python",
   "name": "python",
   "nbconvert_exporter": "python",
   "pygments_lexer": "ipython3",
   "version": "3.6.0"
  }
 },
 "nbformat": 4,
 "nbformat_minor": 2
}
