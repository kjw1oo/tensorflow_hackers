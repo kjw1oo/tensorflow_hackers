{
 "cells": [
  {
   "cell_type": "code",
   "execution_count": 48,
   "metadata": {},
   "outputs": [
    {
     "name": "stdout",
     "output_type": "stream",
     "text": [
      "Extracting ./mnist/data/train-images-idx3-ubyte.gz\n",
      "Extracting ./mnist/data/train-labels-idx1-ubyte.gz\n",
      "Extracting ./mnist/data/t10k-images-idx3-ubyte.gz\n",
      "Extracting ./mnist/data/t10k-labels-idx1-ubyte.gz\n"
     ]
    }
   ],
   "source": [
    "import tensorflow as tf\n",
    "import numpy as np\n",
    "import matplotlib.pyplot as plt\n",
    "%matplotlib inline\n",
    "from tensorflow.examples.tutorials.mnist import input_data\n",
    "\n",
    "mnist = input_data.read_data_sets('./mnist/data/', one_hot = True)"
   ]
  },
  {
   "cell_type": "markdown",
   "metadata": {},
   "source": [
    "- 영문자 4개로 구성된 단어를 학습시켜 3글자만 주어지면 나머지한 글자를 추천하여 단어를 완성하는 프로그램"
   ]
  },
  {
   "cell_type": "code",
   "execution_count": 49,
   "metadata": {},
   "outputs": [],
   "source": [
    "char_arr = 'a b c d e f g h i j k l m n o p q r s t u v w x y z'.split(' ')\n",
    "num_dic = {n : i for i, n in enumerate(char_arr)}\n",
    "dic_len = len(num_dic)"
   ]
  },
  {
   "cell_type": "code",
   "execution_count": 50,
   "metadata": {},
   "outputs": [],
   "source": [
    "# 학습에 사용할 단어를 배열로 저장\n",
    "seq_data = ['word', 'wood', 'deep', 'dive', 'cold', 'cool', 'load', 'love', 'kiss', 'kind']"
   ]
  },
  {
   "cell_type": "markdown",
   "metadata": {},
   "source": [
    "- 유틸리티 함수 작성\n",
    "    - 입력값으로, 단어의 처음 세 글자의 알파벳 인덱스를 구한 배열을구한다.\n",
    "    - inputs = [num_dict[n] for n in seq[:-1]]\n",
    "    - 출력값용으로, 마지막 글자의 알파벳 인덱스를 구한다\n",
    "    - outputs = num_dict[seq[-1]\n",
    "    - 입력값을 원-핫 인코딩으로 변환\n",
    "    - input_batch.append(np.eye(dic_len([input])\n",
    " "
   ]
  },
  {
   "cell_type": "code",
   "execution_count": 51,
   "metadata": {
    "collapsed": true
   },
   "outputs": [],
   "source": [
    "def make_batch(seq_data):\n",
    "    input_batch = []\n",
    "    target_batch = []\n",
    "    for seq in seq_data:\n",
    "        inputs = [num_dic[n] for n in seq[:-1]]\n",
    "        target = num_dic[seq[-1]]\n",
    "        input_batch.append(np.eye(dic_len)[inputs])\n",
    "        target_batch.append([target])\n",
    "    return input_batch, np.array(target_batch).reshape([-1])"
   ]
  },
  {
   "cell_type": "code",
   "execution_count": 52,
   "metadata": {},
   "outputs": [
    {
     "data": {
      "text/plain": [
       "([array([[ 0.,  0.,  0.,  0.,  0.,  0.,  0.,  0.,  0.,  0.,  0.,  0.,  0.,\n",
       "           0.,  0.,  0.,  0.,  0.,  0.,  0.,  0.,  0.,  1.,  0.,  0.,  0.],\n",
       "         [ 0.,  0.,  0.,  0.,  0.,  0.,  0.,  0.,  0.,  0.,  0.,  0.,  0.,\n",
       "           0.,  1.,  0.,  0.,  0.,  0.,  0.,  0.,  0.,  0.,  0.,  0.,  0.],\n",
       "         [ 0.,  0.,  0.,  0.,  0.,  0.,  0.,  0.,  0.,  0.,  0.,  0.,  0.,\n",
       "           0.,  0.,  0.,  0.,  1.,  0.,  0.,  0.,  0.,  0.,  0.,  0.,  0.]]),\n",
       "  array([[ 0.,  0.,  0.,  0.,  0.,  0.,  0.,  0.,  0.,  0.,  0.,  0.,  0.,\n",
       "           0.,  0.,  0.,  0.,  0.,  0.,  0.,  0.,  0.,  1.,  0.,  0.,  0.],\n",
       "         [ 0.,  0.,  0.,  0.,  0.,  0.,  0.,  0.,  0.,  0.,  0.,  0.,  0.,\n",
       "           0.,  1.,  0.,  0.,  0.,  0.,  0.,  0.,  0.,  0.,  0.,  0.,  0.],\n",
       "         [ 0.,  0.,  0.,  0.,  0.,  0.,  0.,  0.,  0.,  0.,  0.,  0.,  0.,\n",
       "           0.,  1.,  0.,  0.,  0.,  0.,  0.,  0.,  0.,  0.,  0.,  0.,  0.]]),\n",
       "  array([[ 0.,  0.,  0.,  1.,  0.,  0.,  0.,  0.,  0.,  0.,  0.,  0.,  0.,\n",
       "           0.,  0.,  0.,  0.,  0.,  0.,  0.,  0.,  0.,  0.,  0.,  0.,  0.],\n",
       "         [ 0.,  0.,  0.,  0.,  1.,  0.,  0.,  0.,  0.,  0.,  0.,  0.,  0.,\n",
       "           0.,  0.,  0.,  0.,  0.,  0.,  0.,  0.,  0.,  0.,  0.,  0.,  0.],\n",
       "         [ 0.,  0.,  0.,  0.,  1.,  0.,  0.,  0.,  0.,  0.,  0.,  0.,  0.,\n",
       "           0.,  0.,  0.,  0.,  0.,  0.,  0.,  0.,  0.,  0.,  0.,  0.,  0.]]),\n",
       "  array([[ 0.,  0.,  0.,  1.,  0.,  0.,  0.,  0.,  0.,  0.,  0.,  0.,  0.,\n",
       "           0.,  0.,  0.,  0.,  0.,  0.,  0.,  0.,  0.,  0.,  0.,  0.,  0.],\n",
       "         [ 0.,  0.,  0.,  0.,  0.,  0.,  0.,  0.,  1.,  0.,  0.,  0.,  0.,\n",
       "           0.,  0.,  0.,  0.,  0.,  0.,  0.,  0.,  0.,  0.,  0.,  0.,  0.],\n",
       "         [ 0.,  0.,  0.,  0.,  0.,  0.,  0.,  0.,  0.,  0.,  0.,  0.,  0.,\n",
       "           0.,  0.,  0.,  0.,  0.,  0.,  0.,  0.,  1.,  0.,  0.,  0.,  0.]]),\n",
       "  array([[ 0.,  0.,  1.,  0.,  0.,  0.,  0.,  0.,  0.,  0.,  0.,  0.,  0.,\n",
       "           0.,  0.,  0.,  0.,  0.,  0.,  0.,  0.,  0.,  0.,  0.,  0.,  0.],\n",
       "         [ 0.,  0.,  0.,  0.,  0.,  0.,  0.,  0.,  0.,  0.,  0.,  0.,  0.,\n",
       "           0.,  1.,  0.,  0.,  0.,  0.,  0.,  0.,  0.,  0.,  0.,  0.,  0.],\n",
       "         [ 0.,  0.,  0.,  0.,  0.,  0.,  0.,  0.,  0.,  0.,  0.,  1.,  0.,\n",
       "           0.,  0.,  0.,  0.,  0.,  0.,  0.,  0.,  0.,  0.,  0.,  0.,  0.]]),\n",
       "  array([[ 0.,  0.,  1.,  0.,  0.,  0.,  0.,  0.,  0.,  0.,  0.,  0.,  0.,\n",
       "           0.,  0.,  0.,  0.,  0.,  0.,  0.,  0.,  0.,  0.,  0.,  0.,  0.],\n",
       "         [ 0.,  0.,  0.,  0.,  0.,  0.,  0.,  0.,  0.,  0.,  0.,  0.,  0.,\n",
       "           0.,  1.,  0.,  0.,  0.,  0.,  0.,  0.,  0.,  0.,  0.,  0.,  0.],\n",
       "         [ 0.,  0.,  0.,  0.,  0.,  0.,  0.,  0.,  0.,  0.,  0.,  0.,  0.,\n",
       "           0.,  1.,  0.,  0.,  0.,  0.,  0.,  0.,  0.,  0.,  0.,  0.,  0.]]),\n",
       "  array([[ 0.,  0.,  0.,  0.,  0.,  0.,  0.,  0.,  0.,  0.,  0.,  1.,  0.,\n",
       "           0.,  0.,  0.,  0.,  0.,  0.,  0.,  0.,  0.,  0.,  0.,  0.,  0.],\n",
       "         [ 0.,  0.,  0.,  0.,  0.,  0.,  0.,  0.,  0.,  0.,  0.,  0.,  0.,\n",
       "           0.,  1.,  0.,  0.,  0.,  0.,  0.,  0.,  0.,  0.,  0.,  0.,  0.],\n",
       "         [ 1.,  0.,  0.,  0.,  0.,  0.,  0.,  0.,  0.,  0.,  0.,  0.,  0.,\n",
       "           0.,  0.,  0.,  0.,  0.,  0.,  0.,  0.,  0.,  0.,  0.,  0.,  0.]]),\n",
       "  array([[ 0.,  0.,  0.,  0.,  0.,  0.,  0.,  0.,  0.,  0.,  0.,  1.,  0.,\n",
       "           0.,  0.,  0.,  0.,  0.,  0.,  0.,  0.,  0.,  0.,  0.,  0.,  0.],\n",
       "         [ 0.,  0.,  0.,  0.,  0.,  0.,  0.,  0.,  0.,  0.,  0.,  0.,  0.,\n",
       "           0.,  1.,  0.,  0.,  0.,  0.,  0.,  0.,  0.,  0.,  0.,  0.,  0.],\n",
       "         [ 0.,  0.,  0.,  0.,  0.,  0.,  0.,  0.,  0.,  0.,  0.,  0.,  0.,\n",
       "           0.,  0.,  0.,  0.,  0.,  0.,  0.,  0.,  1.,  0.,  0.,  0.,  0.]]),\n",
       "  array([[ 0.,  0.,  0.,  0.,  0.,  0.,  0.,  0.,  0.,  0.,  1.,  0.,  0.,\n",
       "           0.,  0.,  0.,  0.,  0.,  0.,  0.,  0.,  0.,  0.,  0.,  0.,  0.],\n",
       "         [ 0.,  0.,  0.,  0.,  0.,  0.,  0.,  0.,  1.,  0.,  0.,  0.,  0.,\n",
       "           0.,  0.,  0.,  0.,  0.,  0.,  0.,  0.,  0.,  0.,  0.,  0.,  0.],\n",
       "         [ 0.,  0.,  0.,  0.,  0.,  0.,  0.,  0.,  0.,  0.,  0.,  0.,  0.,\n",
       "           0.,  0.,  0.,  0.,  0.,  1.,  0.,  0.,  0.,  0.,  0.,  0.,  0.]]),\n",
       "  array([[ 0.,  0.,  0.,  0.,  0.,  0.,  0.,  0.,  0.,  0.,  1.,  0.,  0.,\n",
       "           0.,  0.,  0.,  0.,  0.,  0.,  0.,  0.,  0.,  0.,  0.,  0.,  0.],\n",
       "         [ 0.,  0.,  0.,  0.,  0.,  0.,  0.,  0.,  1.,  0.,  0.,  0.,  0.,\n",
       "           0.,  0.,  0.,  0.,  0.,  0.,  0.,  0.,  0.,  0.,  0.,  0.,  0.],\n",
       "         [ 0.,  0.,  0.,  0.,  0.,  0.,  0.,  0.,  0.,  0.,  0.,  0.,  0.,\n",
       "           1.,  0.,  0.,  0.,  0.,  0.,  0.,  0.,  0.,  0.,  0.,  0.,  0.]])],\n",
       " array([ 3,  3, 15,  4,  3, 11,  3,  4, 18,  3]))"
      ]
     },
     "execution_count": 52,
     "metadata": {},
     "output_type": "execute_result"
    }
   ],
   "source": [
    "make_batch(seq_data)"
   ]
  },
  {
   "cell_type": "code",
   "execution_count": 53,
   "metadata": {
    "collapsed": true
   },
   "outputs": [],
   "source": [
    "learning_rate = 0.01\n",
    "n_hidden = 128\n",
    "total_epoch = 30\n",
    "\n",
    "#단어 중 처음 3글자를 단계적으로 학습\n",
    "n_step = 3\n",
    "n_input = n_class = dic_len"
   ]
  },
  {
   "cell_type": "code",
   "execution_count": 54,
   "metadata": {},
   "outputs": [],
   "source": [
    "with tf.device('/cpu:0'):\n",
    "    X = tf.placeholder(tf.float32, [None, n_step, n_input])\n",
    "    Y = tf.placeholder(tf.int32, [None])\n",
    "\n",
    "    W = tf.Variable(tf.random_normal([n_hidden, n_class]))\n",
    "    b = tf.Variable(tf.random_normal([n_class]))"
   ]
  },
  {
   "cell_type": "code",
   "execution_count": 55,
   "metadata": {
    "collapsed": true
   },
   "outputs": [],
   "source": [
    "with tf.device('/cpu:0'):\n",
    "    cell1 = tf.contrib.rnn.BasicLSTMCell(n_hidden)\n",
    "    cell1 = tf.contrib.rnn.DropoutWrapper(cell1, output_keep_prob=0.5)\n",
    "    cell2 = tf.contrib.rnn.BasicLSTMCell(n_hidden)\n",
    "    # 위의 셀 2개를 MultiRNNcell로 조합\n",
    "    multi_cell = tf.contrib.rnn.MultiRNNCell([cell1, cell2])\n",
    "\n",
    "    outputs, states = tf.nn.dynamic_rnn(multi_cell, X, dtype=tf.float32)"
   ]
  },
  {
   "cell_type": "code",
   "execution_count": 56,
   "metadata": {},
   "outputs": [],
   "source": [
    "with tf.device('/cpu:0'):\n",
    "    outputs = tf.transpose(outputs, [1, 0, 2])\n",
    "    outputs = outputs[-1]\n",
    "    model = tf.matmul(outputs, W) + b"
   ]
  },
  {
   "cell_type": "code",
   "execution_count": 57,
   "metadata": {
    "collapsed": true
   },
   "outputs": [],
   "source": [
    "with tf.device('/cpu:0'):\n",
    "    cost = tf.reduce_mean(tf.nn.sparse_softmax_cross_entropy_with_logits(labels=Y, logits = model))\n",
    "    train = tf.train.AdamOptimizer(learning_rate).minimize(cost)\n",
    "\n",
    "    prediction =  tf.cast(tf.argmax(tf.nn.softmax(model), 1), tf.int32)\n",
    "    is_correct = tf.equal(Y, prediction)\n",
    "    accuracy = tf.reduce_mean(tf.cast(is_correct, tf.float32))"
   ]
  },
  {
   "cell_type": "code",
   "execution_count": 59,
   "metadata": {},
   "outputs": [
    {
     "name": "stdout",
     "output_type": "stream",
     "text": [
      "Epoch: 0, cost : 3.469670534133911\n",
      "prediction : [ 3  3 17  3  3  3  3  3  3  3], accuracy : 0.5\n",
      "Epoch: 1, cost : 2.6267683506011963\n",
      "prediction : [3 3 4 3 3 3 3 3 3 3], accuracy : 0.5\n",
      "Epoch: 2, cost : 1.5942342281341553\n",
      "prediction : [3 3 4 4 3 3 3 3 3 3], accuracy : 0.6000000238418579\n",
      "Epoch: 3, cost : 0.8662815093994141\n",
      "prediction : [ 3  3 15  4  3  3  4  4 18  3], accuracy : 0.800000011920929\n",
      "Epoch: 4, cost : 0.5175931453704834\n",
      "prediction : [ 3  3 15 15 11 11  3  4 18  3], accuracy : 0.800000011920929\n",
      "Epoch: 5, cost : 0.6146663427352905\n",
      "prediction : [ 3  3 15  4  3  3  3  3 18  3], accuracy : 0.800000011920929\n",
      "Epoch: 6, cost : 0.5510315895080566\n",
      "prediction : [ 3  3 15  4 11 11  3  3 18  3], accuracy : 0.800000011920929\n",
      "Epoch: 7, cost : 0.5230320692062378\n",
      "prediction : [ 3  3 15  4 11 11  3  4 18  3], accuracy : 0.8999999761581421\n",
      "Epoch: 8, cost : 0.18682286143302917\n",
      "prediction : [ 3  3 15  4  3  3  4  4 18  3], accuracy : 0.800000011920929\n",
      "Epoch: 9, cost : 0.4864080548286438\n",
      "prediction : [ 3  3  4  4  3  3  4  4 18  3], accuracy : 0.699999988079071\n",
      "Epoch: 10, cost : 0.5665639638900757\n",
      "prediction : [ 3  3 15  4  3  3  3  4 18  3], accuracy : 0.8999999761581421\n",
      "Epoch: 11, cost : 0.25449052453041077\n",
      "prediction : [ 3  3 15  4  3 11  3  4 18  3], accuracy : 1.0\n",
      "Epoch: 12, cost : 0.1327413022518158\n",
      "prediction : [ 3  3 15  4 11 11  3  3 18 18], accuracy : 0.699999988079071\n",
      "Epoch: 13, cost : 0.2771146893501282\n",
      "prediction : [ 3  3 15  4 11 11  3  4 18  3], accuracy : 0.8999999761581421\n",
      "Epoch: 14, cost : 0.43319979310035706\n",
      "prediction : [ 3  3 15  4 11 11  3  3 18  3], accuracy : 0.800000011920929\n",
      "Epoch: 15, cost : 0.1448574811220169\n",
      "prediction : [ 3  3 15  4  3 11  3  3 18  3], accuracy : 0.8999999761581421\n",
      "Epoch: 16, cost : 0.08287354558706284\n",
      "prediction : [ 3  3 15  4  3 11  3  4  3  3], accuracy : 0.8999999761581421\n",
      "Epoch: 17, cost : 0.18491090834140778\n",
      "prediction : [ 3  3 15  4  3  3  3  4 18  3], accuracy : 0.8999999761581421\n",
      "Epoch: 18, cost : 0.13270676136016846\n",
      "prediction : [ 3  3 15  4  3 11  3  4 18  3], accuracy : 1.0\n",
      "Epoch: 19, cost : 0.0357859805226326\n",
      "prediction : [ 3  3 15  4 11 11  3  4 18  3], accuracy : 0.8999999761581421\n",
      "Epoch: 20, cost : 0.07807055115699768\n",
      "prediction : [ 3  3 15  4  3 11  3  4 18  3], accuracy : 1.0\n",
      "Epoch: 21, cost : 0.025734584778547287\n",
      "prediction : [ 3  3 15  4  3  3  3  4 18  3], accuracy : 0.8999999761581421\n",
      "Epoch: 22, cost : 0.063426673412323\n",
      "prediction : [ 3  3 15  4  3 11  3  4 18  3], accuracy : 1.0\n",
      "Epoch: 23, cost : 0.2474175989627838\n",
      "prediction : [ 3  3 15  4  3 11  3  4 18  3], accuracy : 1.0\n",
      "Epoch: 24, cost : 0.02950550615787506\n",
      "prediction : [ 3  3 15  4  3 11  3  4 18  3], accuracy : 1.0\n",
      "Epoch: 25, cost : 0.02701687254011631\n",
      "prediction : [ 3  3 15  4  3 11  3  4 18  3], accuracy : 1.0\n",
      "Epoch: 26, cost : 0.07600121200084686\n",
      "prediction : [ 3  3 15  4  3 11  3  4 18  3], accuracy : 1.0\n",
      "Epoch: 27, cost : 0.010530306957662106\n",
      "prediction : [ 3  3 15  4  3 11  3  4 18  3], accuracy : 1.0\n",
      "Epoch: 28, cost : 0.006525625474750996\n",
      "prediction : [ 3  3 15  4  3 11  3  4 18  3], accuracy : 1.0\n",
      "Epoch: 29, cost : 0.009948424994945526\n",
      "prediction : [ 3  3 15  4  3 11  3  4 18  3], accuracy : 1.0\n",
      "\n",
      "\n",
      " -----예측 결과 =====\n",
      "입력값 : ['wor ', 'woo ', 'dee ', 'div ', 'col ', 'coo ', 'loa ', 'lov ', 'kis ', 'kin ']\n",
      "출력값 : ['word', 'wood', 'deep', 'dive', 'cold', 'cool', 'load', 'love', 'kiss', 'kind']\n",
      "정확도: 1.0\n"
     ]
    }
   ],
   "source": [
    "sess = tf.Session()\n",
    "sess.run(tf.global_variables_initializer())\n",
    "\n",
    "input_batch, target_batch = make_batch(seq_data)\n",
    "\n",
    "for epoch in range(total_epoch):\n",
    "    _, loss = sess.run([train, cost], feed_dict = {X: input_batch, Y: target_batch})\n",
    "    print('Epoch: {}, cost : {}'.format(epoch, loss))\n",
    "    predict, accuracy_val = sess.run([prediction, accuracy], feed_dict = {X: input_batch, Y: target_batch})    \n",
    "    print('prediction : {}, accuracy : {}'.format(predict, accuracy_val))\n",
    "predict, accuracy_val = sess.run([prediction, accuracy], feed_dict = {X: input_batch, Y: target_batch})    \n",
    "predict_words = []\n",
    "for idx, val in enumerate(seq_data):\n",
    "    last_char = char_arr[predict[idx]]\n",
    "    predict_words.append(val[:3] + last_char)\n",
    "print('\\n\\n -----예측 결과 =====')\n",
    "print('입력값 :', [w[:3] + ' 'for w in seq_data])\n",
    "print('출력값 :', predict_words)\n",
    "print('정확도:', accuracy_val)\n"
   ]
  },
  {
   "cell_type": "code",
   "execution_count": 47,
   "metadata": {
    "collapsed": true
   },
   "outputs": [],
   "source": [
    "tf.reset_default_graph()\n",
    "sess.close()"
   ]
  },
  {
   "cell_type": "code",
   "execution_count": null,
   "metadata": {
    "collapsed": true
   },
   "outputs": [],
   "source": []
  },
  {
   "cell_type": "code",
   "execution_count": null,
   "metadata": {
    "collapsed": true
   },
   "outputs": [],
   "source": []
  }
 ],
 "metadata": {
  "kernelspec": {
   "display_name": "Python 3",
   "language": "python",
   "name": "python3"
  },
  "language_info": {
   "codemirror_mode": {
    "name": "ipython",
    "version": 3
   },
   "file_extension": ".py",
   "mimetype": "text/x-python",
   "name": "python",
   "nbconvert_exporter": "python",
   "pygments_lexer": "ipython3",
   "version": "3.6.0"
  }
 },
 "nbformat": 4,
 "nbformat_minor": 2
}
